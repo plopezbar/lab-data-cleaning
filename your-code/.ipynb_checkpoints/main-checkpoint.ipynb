{
 "cells": [
  {
   "cell_type": "markdown",
   "metadata": {},
   "source": [
    "#### 1. Import pandas library"
   ]
  },
  {
   "cell_type": "code",
   "execution_count": 1,
   "metadata": {},
   "outputs": [],
   "source": [
    "import pandas as pd"
   ]
  },
  {
   "cell_type": "markdown",
   "metadata": {},
   "source": [
    "#### 2. Import BigQuery library\n"
   ]
  },
  {
   "cell_type": "code",
   "execution_count": 2,
   "metadata": {},
   "outputs": [],
   "source": [
    "from google.cloud import bigquery"
   ]
  },
  {
   "cell_type": "markdown",
   "metadata": {},
   "source": [
    "#### 3. Create a connection to BigQuery"
   ]
  },
  {
   "cell_type": "code",
   "execution_count": 3,
   "metadata": {},
   "outputs": [],
   "source": [
    "import os\n",
    "os.environ[\"GOOGLE_APPLICATION_CREDENTIALS\"]=\"/Users/plopezbar/Desktop/ironhack_service_account_big_query.json\""
   ]
  },
  {
   "cell_type": "code",
   "execution_count": 4,
   "metadata": {},
   "outputs": [
    {
     "data": {
      "text/plain": [
       "<module 'six' from '/Users/plopezbar/opt/anaconda3/lib/python3.7/site-packages/six.py'>"
      ]
     },
     "execution_count": 4,
     "metadata": {},
     "output_type": "execute_result"
    }
   ],
   "source": [
    "import six\n",
    "six.moves.reload_module(six)"
   ]
  },
  {
   "cell_type": "code",
   "execution_count": 5,
   "metadata": {},
   "outputs": [],
   "source": [
    "client = bigquery.Client()"
   ]
  },
  {
   "cell_type": "markdown",
   "metadata": {},
   "source": [
    "#### 4. Import data from the users table from the stackoverflow public database for United Kingdom only"
   ]
  },
  {
   "cell_type": "code",
   "execution_count": 6,
   "metadata": {},
   "outputs": [],
   "source": [
    "sql= '''\n",
    "SELECT *\n",
    "\n",
    "FROM \n",
    "    `bigquery-public-data.stackoverflow.users` SOU\n",
    "    \n",
    "WHERE\n",
    "  location = 'United Kingdom'\n",
    "'''"
   ]
  },
  {
   "cell_type": "code",
   "execution_count": 7,
   "metadata": {},
   "outputs": [
    {
     "name": "stdout",
     "output_type": "stream",
     "text": [
      "<class 'pandas.core.frame.DataFrame'>\n",
      "RangeIndex: 13952 entries, 0 to 13951\n",
      "Data columns (total 13 columns):\n",
      "id                   13952 non-null int64\n",
      "display_name         13952 non-null object\n",
      "about_me             5705 non-null object\n",
      "age                  0 non-null object\n",
      "creation_date        13952 non-null datetime64[ns, UTC]\n",
      "last_access_date     13952 non-null datetime64[ns, UTC]\n",
      "location             13952 non-null object\n",
      "reputation           13952 non-null int64\n",
      "up_votes             13952 non-null int64\n",
      "down_votes           13952 non-null int64\n",
      "views                13952 non-null int64\n",
      "profile_image_url    8565 non-null object\n",
      "website_url          4637 non-null object\n",
      "dtypes: datetime64[ns, UTC](2), int64(5), object(6)\n",
      "memory usage: 1.4+ MB\n"
     ]
    }
   ],
   "source": [
    "query_job = client.query(query=sql)\n",
    "uk_users =query_job.to_dataframe()\n",
    "uk_users.info()"
   ]
  },
  {
   "cell_type": "code",
   "execution_count": 8,
   "metadata": {},
   "outputs": [
    {
     "data": {
      "text/html": [
       "<div>\n",
       "<style scoped>\n",
       "    .dataframe tbody tr th:only-of-type {\n",
       "        vertical-align: middle;\n",
       "    }\n",
       "\n",
       "    .dataframe tbody tr th {\n",
       "        vertical-align: top;\n",
       "    }\n",
       "\n",
       "    .dataframe thead th {\n",
       "        text-align: right;\n",
       "    }\n",
       "</style>\n",
       "<table border=\"1\" class=\"dataframe\">\n",
       "  <thead>\n",
       "    <tr style=\"text-align: right;\">\n",
       "      <th></th>\n",
       "      <th>id</th>\n",
       "      <th>display_name</th>\n",
       "      <th>about_me</th>\n",
       "      <th>age</th>\n",
       "      <th>creation_date</th>\n",
       "      <th>last_access_date</th>\n",
       "      <th>location</th>\n",
       "      <th>reputation</th>\n",
       "      <th>up_votes</th>\n",
       "      <th>down_votes</th>\n",
       "      <th>views</th>\n",
       "      <th>profile_image_url</th>\n",
       "      <th>website_url</th>\n",
       "    </tr>\n",
       "  </thead>\n",
       "  <tbody>\n",
       "    <tr>\n",
       "      <td>0</td>\n",
       "      <td>5337</td>\n",
       "      <td>J Hunt</td>\n",
       "      <td>&lt;p&gt;&lt;/p&gt;</td>\n",
       "      <td>None</td>\n",
       "      <td>2008-09-09 09:07:41.840000+00:00</td>\n",
       "      <td>2015-02-19 16:29:45.007000+00:00</td>\n",
       "      <td>United Kingdom</td>\n",
       "      <td>602</td>\n",
       "      <td>1</td>\n",
       "      <td>0</td>\n",
       "      <td>127</td>\n",
       "      <td>None</td>\n",
       "      <td>None</td>\n",
       "    </tr>\n",
       "    <tr>\n",
       "      <td>1</td>\n",
       "      <td>6910</td>\n",
       "      <td>Jonathan</td>\n",
       "      <td>&lt;ul&gt;&lt;li&gt;Started programming with Visual Basic ...</td>\n",
       "      <td>None</td>\n",
       "      <td>2008-09-15 12:48:35.843000+00:00</td>\n",
       "      <td>2019-11-29 15:15:39.270000+00:00</td>\n",
       "      <td>United Kingdom</td>\n",
       "      <td>21315</td>\n",
       "      <td>897</td>\n",
       "      <td>8</td>\n",
       "      <td>831</td>\n",
       "      <td>https://www.gravatar.com/avatar/592695fec5a951...</td>\n",
       "      <td>http://www.toolan.net</td>\n",
       "    </tr>\n",
       "    <tr>\n",
       "      <td>2</td>\n",
       "      <td>33682</td>\n",
       "      <td>James Crowley</td>\n",
       "      <td>&lt;p&gt;Co-founder at &lt;a href=\"http://www.fundapps....</td>\n",
       "      <td>None</td>\n",
       "      <td>2008-11-03 15:43:51.987000+00:00</td>\n",
       "      <td>2019-11-19 17:11:30.080000+00:00</td>\n",
       "      <td>United Kingdom</td>\n",
       "      <td>3218</td>\n",
       "      <td>124</td>\n",
       "      <td>3</td>\n",
       "      <td>448</td>\n",
       "      <td>None</td>\n",
       "      <td>http://www.jamescrowley.net/</td>\n",
       "    </tr>\n",
       "    <tr>\n",
       "      <td>3</td>\n",
       "      <td>73789</td>\n",
       "      <td>Perrin255</td>\n",
       "      <td>None</td>\n",
       "      <td>None</td>\n",
       "      <td>2009-03-04 16:50:24.240000+00:00</td>\n",
       "      <td>2019-04-26 14:48:57.903000+00:00</td>\n",
       "      <td>United Kingdom</td>\n",
       "      <td>431</td>\n",
       "      <td>55</td>\n",
       "      <td>0</td>\n",
       "      <td>49</td>\n",
       "      <td>None</td>\n",
       "      <td>None</td>\n",
       "    </tr>\n",
       "    <tr>\n",
       "      <td>4</td>\n",
       "      <td>90996</td>\n",
       "      <td>badmanj</td>\n",
       "      <td>None</td>\n",
       "      <td>None</td>\n",
       "      <td>2009-04-15 09:01:26.433000+00:00</td>\n",
       "      <td>2010-04-09 10:31:19.850000+00:00</td>\n",
       "      <td>United Kingdom</td>\n",
       "      <td>178</td>\n",
       "      <td>3</td>\n",
       "      <td>0</td>\n",
       "      <td>51</td>\n",
       "      <td>None</td>\n",
       "      <td>None</td>\n",
       "    </tr>\n",
       "  </tbody>\n",
       "</table>\n",
       "</div>"
      ],
      "text/plain": [
       "      id   display_name                                           about_me  \\\n",
       "0   5337         J Hunt                                            <p></p>   \n",
       "1   6910       Jonathan  <ul><li>Started programming with Visual Basic ...   \n",
       "2  33682  James Crowley  <p>Co-founder at <a href=\"http://www.fundapps....   \n",
       "3  73789      Perrin255                                               None   \n",
       "4  90996        badmanj                                               None   \n",
       "\n",
       "    age                    creation_date                 last_access_date  \\\n",
       "0  None 2008-09-09 09:07:41.840000+00:00 2015-02-19 16:29:45.007000+00:00   \n",
       "1  None 2008-09-15 12:48:35.843000+00:00 2019-11-29 15:15:39.270000+00:00   \n",
       "2  None 2008-11-03 15:43:51.987000+00:00 2019-11-19 17:11:30.080000+00:00   \n",
       "3  None 2009-03-04 16:50:24.240000+00:00 2019-04-26 14:48:57.903000+00:00   \n",
       "4  None 2009-04-15 09:01:26.433000+00:00 2010-04-09 10:31:19.850000+00:00   \n",
       "\n",
       "         location  reputation  up_votes  down_votes  views  \\\n",
       "0  United Kingdom         602         1           0    127   \n",
       "1  United Kingdom       21315       897           8    831   \n",
       "2  United Kingdom        3218       124           3    448   \n",
       "3  United Kingdom         431        55           0     49   \n",
       "4  United Kingdom         178         3           0     51   \n",
       "\n",
       "                                   profile_image_url  \\\n",
       "0                                               None   \n",
       "1  https://www.gravatar.com/avatar/592695fec5a951...   \n",
       "2                                               None   \n",
       "3                                               None   \n",
       "4                                               None   \n",
       "\n",
       "                    website_url  \n",
       "0                          None  \n",
       "1         http://www.toolan.net  \n",
       "2  http://www.jamescrowley.net/  \n",
       "3                          None  \n",
       "4                          None  "
      ]
     },
     "execution_count": 8,
     "metadata": {},
     "output_type": "execute_result"
    }
   ],
   "source": [
    "uk_users.head()"
   ]
  },
  {
   "cell_type": "markdown",
   "metadata": {},
   "source": [
    "#### 5. Rename id column to user_id"
   ]
  },
  {
   "cell_type": "code",
   "execution_count": 9,
   "metadata": {},
   "outputs": [
    {
     "data": {
      "text/html": [
       "<div>\n",
       "<style scoped>\n",
       "    .dataframe tbody tr th:only-of-type {\n",
       "        vertical-align: middle;\n",
       "    }\n",
       "\n",
       "    .dataframe tbody tr th {\n",
       "        vertical-align: top;\n",
       "    }\n",
       "\n",
       "    .dataframe thead th {\n",
       "        text-align: right;\n",
       "    }\n",
       "</style>\n",
       "<table border=\"1\" class=\"dataframe\">\n",
       "  <thead>\n",
       "    <tr style=\"text-align: right;\">\n",
       "      <th></th>\n",
       "      <th>user_id</th>\n",
       "      <th>display_name</th>\n",
       "      <th>about_me</th>\n",
       "      <th>age</th>\n",
       "      <th>creation_date</th>\n",
       "      <th>last_access_date</th>\n",
       "      <th>location</th>\n",
       "      <th>reputation</th>\n",
       "      <th>up_votes</th>\n",
       "      <th>down_votes</th>\n",
       "      <th>views</th>\n",
       "      <th>profile_image_url</th>\n",
       "      <th>website_url</th>\n",
       "    </tr>\n",
       "  </thead>\n",
       "  <tbody>\n",
       "    <tr>\n",
       "      <td>0</td>\n",
       "      <td>5337</td>\n",
       "      <td>J Hunt</td>\n",
       "      <td>&lt;p&gt;&lt;/p&gt;</td>\n",
       "      <td>None</td>\n",
       "      <td>2008-09-09 09:07:41.840000+00:00</td>\n",
       "      <td>2015-02-19 16:29:45.007000+00:00</td>\n",
       "      <td>United Kingdom</td>\n",
       "      <td>602</td>\n",
       "      <td>1</td>\n",
       "      <td>0</td>\n",
       "      <td>127</td>\n",
       "      <td>None</td>\n",
       "      <td>None</td>\n",
       "    </tr>\n",
       "  </tbody>\n",
       "</table>\n",
       "</div>"
      ],
      "text/plain": [
       "   user_id display_name about_me   age                    creation_date  \\\n",
       "0     5337       J Hunt  <p></p>  None 2008-09-09 09:07:41.840000+00:00   \n",
       "\n",
       "                  last_access_date        location  reputation  up_votes  \\\n",
       "0 2015-02-19 16:29:45.007000+00:00  United Kingdom         602         1   \n",
       "\n",
       "   down_votes  views profile_image_url website_url  \n",
       "0           0    127              None        None  "
      ]
     },
     "execution_count": 9,
     "metadata": {},
     "output_type": "execute_result"
    }
   ],
   "source": [
    "uk_users = uk_users.rename(columns={\"id\": \"user_id\"})\n",
    "uk_users.head(1)"
   ]
  },
  {
   "cell_type": "markdown",
   "metadata": {},
   "source": [
    "#### 6. Import from the stackoverflow_posts table all items which have up to 20 view counts and only select 'id', 'owner_user_id', 'score', 'view_count', 'comment_count', 'favorite_count'"
   ]
  },
  {
   "cell_type": "code",
   "execution_count": 18,
   "metadata": {},
   "outputs": [],
   "source": [
    "sql= '''\n",
    "SELECT \n",
    "    id,\n",
    "    owner_user_id,\n",
    "    score,\n",
    "    view_count,\n",
    "    comment_count,\n",
    "    favorite_count,\n",
    "FROM \n",
    "    `bigquery-public-data.stackoverflow.stackoverflow_posts` SOPO\n",
    "WHERE \n",
    "    view_count <= 20\n",
    "GROUP BY\n",
    "  1,2,3,4,5,6\n",
    "\n",
    "'''"
   ]
  },
  {
   "cell_type": "code",
   "execution_count": 19,
   "metadata": {},
   "outputs": [
    {
     "name": "stdout",
     "output_type": "stream",
     "text": [
      "<class 'pandas.core.frame.DataFrame'>\n",
      "RangeIndex: 325610 entries, 0 to 325609\n",
      "Data columns (total 6 columns):\n",
      "id                325610 non-null int64\n",
      "owner_user_id     324368 non-null float64\n",
      "score             325610 non-null int64\n",
      "view_count        325610 non-null int64\n",
      "comment_count     325610 non-null int64\n",
      "favorite_count    14499 non-null float64\n",
      "dtypes: float64(2), int64(4)\n",
      "memory usage: 14.9 MB\n"
     ]
    }
   ],
   "source": [
    "query_job = client.query(query=sql)\n",
    "posts =query_job.to_dataframe()\n",
    "posts.info()"
   ]
  },
  {
   "cell_type": "code",
   "execution_count": 20,
   "metadata": {},
   "outputs": [
    {
     "data": {
      "text/html": [
       "<div>\n",
       "<style scoped>\n",
       "    .dataframe tbody tr th:only-of-type {\n",
       "        vertical-align: middle;\n",
       "    }\n",
       "\n",
       "    .dataframe tbody tr th {\n",
       "        vertical-align: top;\n",
       "    }\n",
       "\n",
       "    .dataframe thead th {\n",
       "        text-align: right;\n",
       "    }\n",
       "</style>\n",
       "<table border=\"1\" class=\"dataframe\">\n",
       "  <thead>\n",
       "    <tr style=\"text-align: right;\">\n",
       "      <th></th>\n",
       "      <th>id</th>\n",
       "      <th>owner_user_id</th>\n",
       "      <th>score</th>\n",
       "      <th>view_count</th>\n",
       "      <th>comment_count</th>\n",
       "      <th>favorite_count</th>\n",
       "    </tr>\n",
       "  </thead>\n",
       "  <tbody>\n",
       "    <tr>\n",
       "      <td>0</td>\n",
       "      <td>37762707</td>\n",
       "      <td>2766161.0</td>\n",
       "      <td>0</td>\n",
       "      <td>3</td>\n",
       "      <td>0</td>\n",
       "      <td>NaN</td>\n",
       "    </tr>\n",
       "    <tr>\n",
       "      <td>1</td>\n",
       "      <td>37455098</td>\n",
       "      <td>6379693.0</td>\n",
       "      <td>-1</td>\n",
       "      <td>2</td>\n",
       "      <td>0</td>\n",
       "      <td>NaN</td>\n",
       "    </tr>\n",
       "    <tr>\n",
       "      <td>2</td>\n",
       "      <td>35345367</td>\n",
       "      <td>5048561.0</td>\n",
       "      <td>0</td>\n",
       "      <td>3</td>\n",
       "      <td>0</td>\n",
       "      <td>NaN</td>\n",
       "    </tr>\n",
       "    <tr>\n",
       "      <td>3</td>\n",
       "      <td>37253113</td>\n",
       "      <td>6013377.0</td>\n",
       "      <td>0</td>\n",
       "      <td>3</td>\n",
       "      <td>0</td>\n",
       "      <td>NaN</td>\n",
       "    </tr>\n",
       "    <tr>\n",
       "      <td>4</td>\n",
       "      <td>37513722</td>\n",
       "      <td>6113474.0</td>\n",
       "      <td>0</td>\n",
       "      <td>2</td>\n",
       "      <td>0</td>\n",
       "      <td>1.0</td>\n",
       "    </tr>\n",
       "  </tbody>\n",
       "</table>\n",
       "</div>"
      ],
      "text/plain": [
       "         id  owner_user_id  score  view_count  comment_count  favorite_count\n",
       "0  37762707      2766161.0      0           3              0             NaN\n",
       "1  37455098      6379693.0     -1           2              0             NaN\n",
       "2  35345367      5048561.0      0           3              0             NaN\n",
       "3  37253113      6013377.0      0           3              0             NaN\n",
       "4  37513722      6113474.0      0           2              0             1.0"
      ]
     },
     "execution_count": 20,
     "metadata": {},
     "output_type": "execute_result"
    }
   ],
   "source": [
    "posts.head()"
   ]
  },
  {
   "cell_type": "markdown",
   "metadata": {},
   "source": [
    "#### 7. Rename id column to post_id and owner_user_id to user_id"
   ]
  },
  {
   "cell_type": "code",
   "execution_count": 35,
   "metadata": {},
   "outputs": [
    {
     "data": {
      "text/html": [
       "<div>\n",
       "<style scoped>\n",
       "    .dataframe tbody tr th:only-of-type {\n",
       "        vertical-align: middle;\n",
       "    }\n",
       "\n",
       "    .dataframe tbody tr th {\n",
       "        vertical-align: top;\n",
       "    }\n",
       "\n",
       "    .dataframe thead th {\n",
       "        text-align: right;\n",
       "    }\n",
       "</style>\n",
       "<table border=\"1\" class=\"dataframe\">\n",
       "  <thead>\n",
       "    <tr style=\"text-align: right;\">\n",
       "      <th></th>\n",
       "      <th>post_id</th>\n",
       "      <th>user_id</th>\n",
       "      <th>score</th>\n",
       "      <th>view_count</th>\n",
       "      <th>comment_count</th>\n",
       "      <th>favorite_count</th>\n",
       "    </tr>\n",
       "  </thead>\n",
       "  <tbody>\n",
       "    <tr>\n",
       "      <td>0</td>\n",
       "      <td>37762707</td>\n",
       "      <td>2766161.0</td>\n",
       "      <td>0</td>\n",
       "      <td>3</td>\n",
       "      <td>0</td>\n",
       "      <td>NaN</td>\n",
       "    </tr>\n",
       "  </tbody>\n",
       "</table>\n",
       "</div>"
      ],
      "text/plain": [
       "    post_id    user_id  score  view_count  comment_count  favorite_count\n",
       "0  37762707  2766161.0      0           3              0             NaN"
      ]
     },
     "execution_count": 35,
     "metadata": {},
     "output_type": "execute_result"
    }
   ],
   "source": [
    "posts = posts.rename(columns={\"id\": \"post_id\", \"owner_user_id\": \"user_id\"})\n",
    "posts.head(1)"
   ]
  },
  {
   "cell_type": "markdown",
   "metadata": {},
   "source": [
    "#### 8. Define new dataframes for users and posts with the following selected columns:\n",
    "    **users columns**: user_id, reputation,views,up_votes,down_votes\n",
    "    **posts columns**: post_id, score,user_id,view_count,comment_count"
   ]
  },
  {
   "cell_type": "code",
   "execution_count": 36,
   "metadata": {},
   "outputs": [
    {
     "data": {
      "text/html": [
       "<div>\n",
       "<style scoped>\n",
       "    .dataframe tbody tr th:only-of-type {\n",
       "        vertical-align: middle;\n",
       "    }\n",
       "\n",
       "    .dataframe tbody tr th {\n",
       "        vertical-align: top;\n",
       "    }\n",
       "\n",
       "    .dataframe thead th {\n",
       "        text-align: right;\n",
       "    }\n",
       "</style>\n",
       "<table border=\"1\" class=\"dataframe\">\n",
       "  <thead>\n",
       "    <tr style=\"text-align: right;\">\n",
       "      <th></th>\n",
       "      <th>user_id</th>\n",
       "      <th>reputation</th>\n",
       "      <th>views</th>\n",
       "      <th>up_votes</th>\n",
       "      <th>down_votes</th>\n",
       "    </tr>\n",
       "  </thead>\n",
       "  <tbody>\n",
       "    <tr>\n",
       "      <td>0</td>\n",
       "      <td>5337</td>\n",
       "      <td>602</td>\n",
       "      <td>127</td>\n",
       "      <td>1</td>\n",
       "      <td>0</td>\n",
       "    </tr>\n",
       "    <tr>\n",
       "      <td>1</td>\n",
       "      <td>6910</td>\n",
       "      <td>21315</td>\n",
       "      <td>831</td>\n",
       "      <td>897</td>\n",
       "      <td>8</td>\n",
       "    </tr>\n",
       "    <tr>\n",
       "      <td>2</td>\n",
       "      <td>33682</td>\n",
       "      <td>3218</td>\n",
       "      <td>448</td>\n",
       "      <td>124</td>\n",
       "      <td>3</td>\n",
       "    </tr>\n",
       "    <tr>\n",
       "      <td>3</td>\n",
       "      <td>73789</td>\n",
       "      <td>431</td>\n",
       "      <td>49</td>\n",
       "      <td>55</td>\n",
       "      <td>0</td>\n",
       "    </tr>\n",
       "    <tr>\n",
       "      <td>4</td>\n",
       "      <td>90996</td>\n",
       "      <td>178</td>\n",
       "      <td>51</td>\n",
       "      <td>3</td>\n",
       "      <td>0</td>\n",
       "    </tr>\n",
       "  </tbody>\n",
       "</table>\n",
       "</div>"
      ],
      "text/plain": [
       "   user_id  reputation  views  up_votes  down_votes\n",
       "0     5337         602    127         1           0\n",
       "1     6910       21315    831       897           8\n",
       "2    33682        3218    448       124           3\n",
       "3    73789         431     49        55           0\n",
       "4    90996         178     51         3           0"
      ]
     },
     "execution_count": 36,
     "metadata": {},
     "output_type": "execute_result"
    }
   ],
   "source": [
    "uk_users1 = uk_users[['user_id','reputation','views', 'up_votes', 'down_votes']]\n",
    "uk_users1.head()"
   ]
  },
  {
   "cell_type": "code",
   "execution_count": 37,
   "metadata": {},
   "outputs": [
    {
     "data": {
      "text/html": [
       "<div>\n",
       "<style scoped>\n",
       "    .dataframe tbody tr th:only-of-type {\n",
       "        vertical-align: middle;\n",
       "    }\n",
       "\n",
       "    .dataframe tbody tr th {\n",
       "        vertical-align: top;\n",
       "    }\n",
       "\n",
       "    .dataframe thead th {\n",
       "        text-align: right;\n",
       "    }\n",
       "</style>\n",
       "<table border=\"1\" class=\"dataframe\">\n",
       "  <thead>\n",
       "    <tr style=\"text-align: right;\">\n",
       "      <th></th>\n",
       "      <th>post_id</th>\n",
       "      <th>score</th>\n",
       "      <th>user_id</th>\n",
       "      <th>view_count</th>\n",
       "      <th>comment_count</th>\n",
       "    </tr>\n",
       "  </thead>\n",
       "  <tbody>\n",
       "    <tr>\n",
       "      <td>0</td>\n",
       "      <td>37762707</td>\n",
       "      <td>0</td>\n",
       "      <td>2766161.0</td>\n",
       "      <td>3</td>\n",
       "      <td>0</td>\n",
       "    </tr>\n",
       "    <tr>\n",
       "      <td>1</td>\n",
       "      <td>37455098</td>\n",
       "      <td>-1</td>\n",
       "      <td>6379693.0</td>\n",
       "      <td>2</td>\n",
       "      <td>0</td>\n",
       "    </tr>\n",
       "    <tr>\n",
       "      <td>2</td>\n",
       "      <td>35345367</td>\n",
       "      <td>0</td>\n",
       "      <td>5048561.0</td>\n",
       "      <td>3</td>\n",
       "      <td>0</td>\n",
       "    </tr>\n",
       "    <tr>\n",
       "      <td>3</td>\n",
       "      <td>37253113</td>\n",
       "      <td>0</td>\n",
       "      <td>6013377.0</td>\n",
       "      <td>3</td>\n",
       "      <td>0</td>\n",
       "    </tr>\n",
       "    <tr>\n",
       "      <td>4</td>\n",
       "      <td>37513722</td>\n",
       "      <td>0</td>\n",
       "      <td>6113474.0</td>\n",
       "      <td>2</td>\n",
       "      <td>0</td>\n",
       "    </tr>\n",
       "  </tbody>\n",
       "</table>\n",
       "</div>"
      ],
      "text/plain": [
       "    post_id  score    user_id  view_count  comment_count\n",
       "0  37762707      0  2766161.0           3              0\n",
       "1  37455098     -1  6379693.0           2              0\n",
       "2  35345367      0  5048561.0           3              0\n",
       "3  37253113      0  6013377.0           3              0\n",
       "4  37513722      0  6113474.0           2              0"
      ]
     },
     "execution_count": 37,
     "metadata": {},
     "output_type": "execute_result"
    }
   ],
   "source": [
    "posts1 = posts[['post_id', 'score', 'user_id', 'view_count', 'comment_count']]\n",
    "posts1.head()"
   ]
  },
  {
   "cell_type": "markdown",
   "metadata": {},
   "source": [
    "#### 8. Merge both dataframes, users and posts. \n",
    "You will need to make a [merge](https://pandas.pydata.org/pandas-docs/stable/generated/pandas.DataFrame.merge.html) of posts and users dataframes."
   ]
  },
  {
   "cell_type": "code",
   "execution_count": 40,
   "metadata": {},
   "outputs": [
    {
     "data": {
      "text/html": [
       "<div>\n",
       "<style scoped>\n",
       "    .dataframe tbody tr th:only-of-type {\n",
       "        vertical-align: middle;\n",
       "    }\n",
       "\n",
       "    .dataframe tbody tr th {\n",
       "        vertical-align: top;\n",
       "    }\n",
       "\n",
       "    .dataframe thead th {\n",
       "        text-align: right;\n",
       "    }\n",
       "</style>\n",
       "<table border=\"1\" class=\"dataframe\">\n",
       "  <thead>\n",
       "    <tr style=\"text-align: right;\">\n",
       "      <th></th>\n",
       "      <th>user_id</th>\n",
       "      <th>reputation</th>\n",
       "      <th>views</th>\n",
       "      <th>up_votes</th>\n",
       "      <th>down_votes</th>\n",
       "      <th>post_id</th>\n",
       "      <th>score</th>\n",
       "      <th>view_count</th>\n",
       "      <th>comment_count</th>\n",
       "    </tr>\n",
       "  </thead>\n",
       "  <tbody>\n",
       "    <tr>\n",
       "      <td>0</td>\n",
       "      <td>33682</td>\n",
       "      <td>3218</td>\n",
       "      <td>448</td>\n",
       "      <td>124</td>\n",
       "      <td>3</td>\n",
       "      <td>31383344</td>\n",
       "      <td>0</td>\n",
       "      <td>11</td>\n",
       "      <td>0</td>\n",
       "    </tr>\n",
       "    <tr>\n",
       "      <td>1</td>\n",
       "      <td>1010198</td>\n",
       "      <td>412</td>\n",
       "      <td>141</td>\n",
       "      <td>19</td>\n",
       "      <td>0</td>\n",
       "      <td>33721783</td>\n",
       "      <td>0</td>\n",
       "      <td>15</td>\n",
       "      <td>0</td>\n",
       "    </tr>\n",
       "    <tr>\n",
       "      <td>2</td>\n",
       "      <td>1010198</td>\n",
       "      <td>412</td>\n",
       "      <td>141</td>\n",
       "      <td>19</td>\n",
       "      <td>0</td>\n",
       "      <td>36489861</td>\n",
       "      <td>0</td>\n",
       "      <td>16</td>\n",
       "      <td>0</td>\n",
       "    </tr>\n",
       "    <tr>\n",
       "      <td>3</td>\n",
       "      <td>450600</td>\n",
       "      <td>5443</td>\n",
       "      <td>338</td>\n",
       "      <td>66</td>\n",
       "      <td>7</td>\n",
       "      <td>34445677</td>\n",
       "      <td>0</td>\n",
       "      <td>13</td>\n",
       "      <td>0</td>\n",
       "    </tr>\n",
       "    <tr>\n",
       "      <td>4</td>\n",
       "      <td>450600</td>\n",
       "      <td>5443</td>\n",
       "      <td>338</td>\n",
       "      <td>66</td>\n",
       "      <td>7</td>\n",
       "      <td>32949627</td>\n",
       "      <td>0</td>\n",
       "      <td>20</td>\n",
       "      <td>0</td>\n",
       "    </tr>\n",
       "  </tbody>\n",
       "</table>\n",
       "</div>"
      ],
      "text/plain": [
       "   user_id  reputation  views  up_votes  down_votes   post_id  score  \\\n",
       "0    33682        3218    448       124           3  31383344      0   \n",
       "1  1010198         412    141        19           0  33721783      0   \n",
       "2  1010198         412    141        19           0  36489861      0   \n",
       "3   450600        5443    338        66           7  34445677      0   \n",
       "4   450600        5443    338        66           7  32949627      0   \n",
       "\n",
       "   view_count  comment_count  \n",
       "0          11              0  \n",
       "1          15              0  \n",
       "2          16              0  \n",
       "3          13              0  \n",
       "4          20              0  "
      ]
     },
     "execution_count": 40,
     "metadata": {},
     "output_type": "execute_result"
    }
   ],
   "source": [
    "merge_df = uk_users1.merge(posts1, left_on='user_id', right_on='user_id')\n",
    "merge_df.head()"
   ]
  },
  {
   "cell_type": "markdown",
   "metadata": {},
   "source": [
    "#### 9. How many missing values do you have in your merged dataframe? "
   ]
  },
  {
   "cell_type": "code",
   "execution_count": 43,
   "metadata": {},
   "outputs": [
    {
     "data": {
      "text/plain": [
       "user_id          0\n",
       "reputation       0\n",
       "views            0\n",
       "up_votes         0\n",
       "down_votes       0\n",
       "post_id          0\n",
       "score            0\n",
       "view_count       0\n",
       "comment_count    0\n",
       "dtype: int64"
      ]
     },
     "execution_count": 43,
     "metadata": {},
     "output_type": "execute_result"
    }
   ],
   "source": [
    "# By columns\n",
    "merge_df.isnull().sum()"
   ]
  },
  {
   "cell_type": "code",
   "execution_count": 44,
   "metadata": {},
   "outputs": [
    {
     "data": {
      "text/plain": [
       "0"
      ]
     },
     "execution_count": 44,
     "metadata": {},
     "output_type": "execute_result"
    }
   ],
   "source": [
    "# Total\n",
    "merge_df.isnull().sum().sum()"
   ]
  },
  {
   "cell_type": "markdown",
   "metadata": {},
   "source": [
    "#### Bonus: Identify extreme values in your merged dataframe, create a dataframe called outliers with the same columns as our data set and calculate the bounds. The values of the outliers dataframe will be the values of the merged_df that fall outside that bounds. You will need to save your outliers dataframe to a csv file on your-code folder. Hint: post_id cannot have outliers!"
   ]
  }
 ],
 "metadata": {
  "kernelspec": {
   "display_name": "Python 3",
   "language": "python",
   "name": "python3"
  },
  "language_info": {
   "codemirror_mode": {
    "name": "ipython",
    "version": 3
   },
   "file_extension": ".py",
   "mimetype": "text/x-python",
   "name": "python",
   "nbconvert_exporter": "python",
   "pygments_lexer": "ipython3",
   "version": "3.7.4"
  }
 },
 "nbformat": 4,
 "nbformat_minor": 2
}
